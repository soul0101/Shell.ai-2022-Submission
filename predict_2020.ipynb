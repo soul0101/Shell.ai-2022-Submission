{
 "cells": [
  {
   "cell_type": "code",
   "execution_count": null,
   "metadata": {},
   "outputs": [],
   "source": [
    "# THIS IS NOT CONSIDERING SCS AND FCS BASED ON 2019 but ON 2018 so this is ccurrently wrong"
   ]
  },
  {
   "cell_type": "code",
   "execution_count": 1,
   "metadata": {},
   "outputs": [
    {
     "name": "stdout",
     "output_type": "stream",
     "text": [
      "Set parameter Username\n",
      "Academic license - for non-commercial use only - expires 2023-08-29\n"
     ]
    }
   ],
   "source": [
    "import math\n",
    "import numpy as np\n",
    "import pandas as pd\n",
    "from sklearn.metrics import pairwise\n",
    "import gurobipy as gp\n",
    "from gurobipy import GRB\n",
    "from demand_point import DemandPoint\n",
    "from supply_point import SupplyPoint\n",
    "\n",
    "demand_history_df = pd.read_csv('./dataset/Demand_History.csv')\n",
    "limit = len(demand_history_df)\n",
    "demand_points = []\n",
    "\n",
    "for i in range(len(demand_history_df[:limit])):\n",
    "    cur_row = demand_history_df.iloc[i]\n",
    "    demand_object = DemandPoint(cur_row[0], cur_row[1], cur_row[2], np.array(cur_row[3:]))\n",
    "    # demand_object.predict_demand()\n",
    "    demand_points.append(demand_object)\n",
    "\n",
    "existing_infra_df = pd.read_csv('./dataset/exisiting_EV_infrastructure_2018.csv')\n",
    "supply_points = []\n",
    "\n",
    "for i in range(len(existing_infra_df)):\n",
    "    cur_row = existing_infra_df.iloc[i]\n",
    "    supply_object = SupplyPoint(cur_row[0], cur_row[1], cur_row[2], cur_row[3], cur_row[4], cur_row[5])\n",
    "    # supply_object.calculate_max_supply()\n",
    "    supply_points.append(supply_object)\n",
    "\n",
    "demand_point_locations = [[point.x, point.y] for point in demand_points]\n",
    "supply_point_locations = [[point.x, point.y] for point in supply_points]\n",
    "cost = pairwise.euclidean_distances(demand_point_locations, supply_point_locations)\n",
    "\n",
    "model = gp.Model('Shell')\n",
    "\n",
    "\"\"\"\n",
    "Variables\n",
    "----------\n",
    "\n",
    "\"\"\"\n",
    "\n",
    "allocation_matrix = {(demand_index, supply_index): model.addVar(vtype = GRB.CONTINUOUS,\n",
    "                            lb = 0.0,\n",
    "                            ub = GRB.INFINITY,\n",
    "                            name = \"x_{0}_{1}\".format(demand_index, supply_index))\n",
    "    for demand_index, demand_point in enumerate(demand_points) for supply_index, supply_point in enumerate(supply_points)}\n",
    "\n",
    "num_fcs = {}\n",
    "num_scs = {}\n",
    "\n",
    "num_fcs = {(supply_index) : model.addVar(vtype = GRB.INTEGER,\n",
    "                lb = supply_point.existing_num_FCS,\n",
    "                ub = supply_point.total_parking_slots,\n",
    "                name = \"num_fcs_{0}\".format(supply_index))\n",
    "    for supply_index, supply_point in enumerate(supply_points)}\n",
    "\n",
    "num_scs = {(supply_index) : model.addVar(vtype = GRB.INTEGER,\n",
    "                lb = supply_point.existing_num_SCS,\n",
    "                ub = supply_point.total_parking_slots,\n",
    "                name = \"num_scs_{0}\".format(supply_index))\n",
    "    for supply_index, supply_point in enumerate(supply_points)}\n",
    "\n",
    "\"\"\"\n",
    "Constraints\n",
    "------------\n",
    "\n",
    "\"\"\"\n",
    "\n",
    "model.addConstrs(\n",
    "    (num_fcs[supply_index] + num_scs[supply_index] <= supply_point.total_parking_slots\n",
    "    for supply_index, supply_point in enumerate(supply_points)),\n",
    "    name = 'fcs_constr'\n",
    ")\n",
    "\n",
    "model.addConstrs(\n",
    "    (gp.quicksum(allocation_matrix[demand_index, supply_index] \n",
    "    for demand_index in range(len(demand_points))) <= 400*num_fcs[supply_index] + 200*num_scs[supply_index] - 10e-3\n",
    "    \n",
    "    for supply_index, supply_point in enumerate(supply_points)),\n",
    "    name = 'constr2'\n",
    ")\n",
    "\n",
    "model.addConstrs(\n",
    "    (gp.quicksum(allocation_matrix[demand_index, supply_index] \n",
    "    for supply_index in range(len(supply_points))) <= max(0, demand_point.demand[1] - 10e-3)\n",
    "\n",
    "    for demand_index, demand_point in enumerate(demand_points)),\n",
    "    name = 'constr3'\n",
    ")\n",
    "\n",
    "# max_possible_supply = sum(supply.max_supply for supply in supply_points)\n",
    "# model.addConstrs(\n",
    "#     (gp.quicksum(allocation_matrix[demand_index, supply_index] \n",
    "#     for supply_index in range(len(supply_points))\n",
    "#     for demand_index, demand_point in enumerate(demand_points))) \n",
    "#         <=  max_possible_supply\n",
    "#     ,\n",
    "#     name = 'constr3'\n",
    "# )\n",
    "\n",
    "    \n",
    "\"\"\"\n",
    "Objective\n",
    "\"\"\"\n",
    "\n",
    "objective_terms = []\n",
    "for demand_index, demand_point in enumerate(demand_points):\n",
    "    for supply_index, supply_point in enumerate(supply_points):\n",
    "        objective_terms.append(cost[demand_index][supply_index] * allocation_matrix[demand_index, supply_index])\n",
    "\n",
    "for demand_index, demand_point in enumerate(demand_points):\n",
    "    objective_terms.append(25 * (\n",
    "            demand_point.demand[1] - (gp.quicksum(allocation_matrix[demand_index, supply_index] for supply_index in range(len(supply_points))))\n",
    "        )\n",
    "    )\n",
    "\n",
    "for supply_index, supply_point in enumerate(supply_points):\n",
    "    objective_terms.append(600 * (num_scs[supply_index] + 1.5 * num_fcs[supply_index]))"
   ]
  },
  {
   "cell_type": "code",
   "execution_count": 2,
   "metadata": {},
   "outputs": [],
   "source": [
    "model.setObjective(gp.quicksum(objective_terms))\n",
    "model.ModelSense = gp.GRB.MINIMIZE"
   ]
  },
  {
   "cell_type": "code",
   "execution_count": null,
   "metadata": {},
   "outputs": [],
   "source": [
    "model.computeIIS()\n",
    "model.write(\"model.ilp\")"
   ]
  },
  {
   "cell_type": "code",
   "execution_count": null,
   "metadata": {},
   "outputs": [],
   "source": [
    "model.feasRelaxS(0, True, False, True)"
   ]
  },
  {
   "cell_type": "code",
   "execution_count": 3,
   "metadata": {},
   "outputs": [
    {
     "name": "stdout",
     "output_type": "stream",
     "text": [
      "Gurobi Optimizer version 9.5.2 build v9.5.2rc0 (win64)\n",
      "Thread count: 4 physical cores, 8 logical processors, using up to 8 threads\n",
      "Optimize a model with 4296 rows, 409800 columns and 819600 nonzeros\n",
      "Model fingerprint: 0xcb55fbbd\n",
      "Variable types: 409600 continuous, 200 integer (0 binary)\n",
      "Coefficient statistics:\n",
      "  Matrix range     [1e+00, 4e+02]\n",
      "  Objective range  [3e-05, 9e+02]\n",
      "  Bounds range     [1e+00, 4e+01]\n",
      "  RHS range        [1e-02, 6e+02]\n",
      "Found heuristic solution: objective 1.147614e+07\n",
      "Presolve removed 31 rows and 257871 columns\n",
      "Presolve time: 0.79s\n",
      "Presolved: 4265 rows, 151929 columns, 303858 nonzeros\n",
      "Variable types: 151729 continuous, 200 integer (0 binary)\n",
      "\n",
      "Root relaxation: objective 3.189353e+06, 7904 iterations, 0.78 seconds (0.25 work units)\n",
      "\n",
      "    Nodes    |    Current Node    |     Objective Bounds      |     Work\n",
      " Expl Unexpl |  Obj  Depth IntInf | Incumbent    BestBd   Gap | It/Node Time\n",
      "\n",
      "     0     0 3189353.25    0   23 1.1476e+07 3189353.25  72.2%     -    2s\n",
      "H    0     0                    3281706.2803 3189353.25  2.81%     -    2s\n",
      "H    0     0                    3194797.9485 3189353.25  0.17%     -    2s\n",
      "H    0     0                    3189524.8790 3189353.25  0.01%     -    2s\n",
      "\n",
      "Explored 1 nodes (7904 simplex iterations) in 3.01 seconds (0.91 work units)\n",
      "Thread count was 8 (of 8 available processors)\n",
      "\n",
      "Solution count 4: 3.18952e+06 3.1948e+06 3.28171e+06 1.14761e+07 \n",
      "\n",
      "Optimal solution found (tolerance 1.00e-04)\n",
      "Best objective 3.189524879007e+06, best bound 3.189353254564e+06, gap 0.0054%\n"
     ]
    }
   ],
   "source": [
    "model.optimize()"
   ]
  },
  {
   "cell_type": "code",
   "execution_count": null,
   "metadata": {},
   "outputs": [],
   "source": [
    "import matplotlib.pyplot as plt\n",
    "for demand_index, demand_point in enumerate(demand_points[:100]):\n",
    "    for supply_index, supply_point in enumerate(supply_points[:100]):\n",
    "        \n",
    "#         plt.scatter([supply_point.x], [supply_point.y], color='r')\n",
    "#         plt.scatter([demand_point.x], [demand_point.y], color='b')\n",
    "        if allocation_matrix[demand_index, supply_index].X > 0:\n",
    "            print(demand_index, supply_index, allocation_matrix[demand_index, supply_index].X)\n",
    "#             plt.text((supply_point.x + demand_point.x) / 2, (supply_point.y + demand_point.y) / 2, '%s'%(allocation_matrix[demand_index, supply_index].X), fontsize = 10)\n",
    "#             plt.plot([supply_point.x, demand_point.x], [supply_point.y, demand_point.y])\n",
    "# plt.show()\n"
   ]
  },
  {
   "cell_type": "code",
   "execution_count": null,
   "metadata": {},
   "outputs": [],
   "source": [
    "allocation_copy = {}\n",
    "\n",
    "for supply_index, supply_point in enumerate(supply_points):\n",
    "    for demand_index in range(len(demand_points)): \n",
    "        allocation_copy[demand_index, supply_index] = allocation_matrix[demand_index, supply_index].X\n",
    "        \n",
    "for supply_index, supply_point in enumerate(supply_points):\n",
    "    cur = sum([allocation_copy[demand_index, supply_index] for demand_index in range(len(demand_points))])\n",
    "    max_allowed = supply_point.max_supply\n",
    "\n",
    "    for demand_index in range(len(demand_points)): \n",
    "        if cur <= max_allowed:\n",
    "            break\n",
    "        \n",
    "        cur -= allocation_copy[demand_index, supply_index]\n",
    "        allocation_copy[demand_index, supply_index] = 0.0"
   ]
  },
  {
   "cell_type": "code",
   "execution_count": null,
   "metadata": {},
   "outputs": [],
   "source": [
    "# Test constraint 1\n",
    "for supply_index, supply_point in enumerate(supply_points):\n",
    "    if num_fcs[supply_index].X < 0 or num_scs[supply_index].X < 0 or num_fcs[supply_index].X + num_scs[supply_index].X > supply_point.total_parking_slots:\n",
    "        print(supply_index, num_fcs[supply_index].X, num_scs[supply_index].X)\n",
    "    # print(supply_point.total_parking_slots - (num_fcs[supply_index].X + num_scs[supply_index].X))"
   ]
  },
  {
   "cell_type": "code",
   "execution_count": null,
   "metadata": {},
   "outputs": [],
   "source": [
    "# Test constraint 2\n",
    "for supply_index, supply_point in enumerate(supply_points):\n",
    "    cur_sum = sum(max(0, allocation_matrix[demand_index, supply_index].X) for demand_index in range(len(demand_points)))\n",
    "    max_supply = 400 * num_fcs[supply_index].X + 200 * num_scs[supply_index].X\n",
    "    if cur_sum > max_supply:\n",
    "        print(supply_index, cur_sum, max_supply, cur_sum - max_supply)\n",
    "    # print(max_supply - cur_sum)"
   ]
  },
  {
   "cell_type": "code",
   "execution_count": null,
   "metadata": {},
   "outputs": [],
   "source": [
    "# Test constraint 3\n",
    "for demand_index, demand_point in enumerate(demand_points):\n",
    "    cur_sum = sum(max(0, allocation_matrix[demand_index, supply_index].X) for supply_index in range(len(supply_points)))\n",
    "    max_sum = demand_point.demand[1]\n",
    "\n",
    "    if cur_sum > max_sum:\n",
    "        print(demand_index, cur_sum, max_sum, cur_sum - max_sum)\n",
    "    # if max_sum - cur_sum > 0.5:\n",
    "    #     print(demand_index, max_sum, cur_sum, max_sum - cur_sum)\n",
    "    # print(demand_index, cur_sum, max_sum, cur_sum - max_sum)"
   ]
  },
  {
   "cell_type": "code",
   "execution_count": null,
   "metadata": {},
   "outputs": [],
   "source": [
    "# Test constraint 4\n",
    "for demand_index, demand_point in enumerate(demand_points):\n",
    "    for supply_index, supply_point in enumerate(supply_points):\n",
    "        if allocation_matrix[demand_index, supply_index].X < 0:\n",
    "            print(demand_index, supply_index, allocation_matrix[demand_index, supply_index].X )\n",
    "            "
   ]
  },
  {
   "cell_type": "code",
   "execution_count": null,
   "metadata": {},
   "outputs": [],
   "source": [
    "for supply_index, supply_point in enumerate(supply_points):\n",
    "    if supply_point.existing_num_FCS > num_fcs[supply_index].X:\n",
    "        print(supply_index, supply_point.existing_num_FCS, num_fcs[supply_index].X)\n",
    "    if supply_point.existing_num_SCS > num_scs[supply_index].X:\n",
    "        print(supply_index, supply_point.existing_num_SCS, num_scs[supply_index].X)"
   ]
  },
  {
   "cell_type": "code",
   "execution_count": 7,
   "metadata": {},
   "outputs": [],
   "source": [
    "import csv  \n",
    "with open('shell_notebook.csv', 'a', encoding='UTF8', newline='') as f:\n",
    "    writer = csv.writer(f)\n",
    "    # write the header\n",
    "    # write multiple rows\n",
    "    for i in range(len(num_fcs)):\n",
    "        writer.writerow(['2020', 'FCS', 0, i, int(num_fcs[i].X)])"
   ]
  },
  {
   "cell_type": "code",
   "execution_count": 8,
   "metadata": {},
   "outputs": [],
   "source": [
    "with open('shell_notebook.csv', 'a', encoding='UTF8', newline='') as f:\n",
    "    writer = csv.writer(f)\n",
    "    for i in range(len(num_scs)):\n",
    "        writer.writerow(['2020', 'SCS', 0, i, int(num_scs[i].X)])"
   ]
  },
  {
   "cell_type": "code",
   "execution_count": 9,
   "metadata": {},
   "outputs": [],
   "source": [
    "with open('shell_notebook.csv', 'a', encoding='UTF8', newline='') as f:\n",
    "    writer = csv.writer(f)\n",
    "    for demand_index, demand_point in enumerate(demand_points):\n",
    "        for supply_index, supply_point in enumerate(supply_points):\n",
    "            writer.writerow(['2020', 'DS', demand_index, supply_index, max(0, allocation_matrix[demand_index, supply_index].X)])"
   ]
  }
 ],
 "metadata": {
  "kernelspec": {
   "display_name": "Python 3.9.1 ('face')",
   "language": "python",
   "name": "python3"
  },
  "language_info": {
   "codemirror_mode": {
    "name": "ipython",
    "version": 3
   },
   "file_extension": ".py",
   "mimetype": "text/x-python",
   "name": "python",
   "nbconvert_exporter": "python",
   "pygments_lexer": "ipython3",
   "version": "3.9.1"
  },
  "orig_nbformat": 4,
  "vscode": {
   "interpreter": {
    "hash": "0015dbe0128247db5ee375288c307af905a456c2f7f82485d02b896432d2a5fb"
   }
  }
 },
 "nbformat": 4,
 "nbformat_minor": 2
}
