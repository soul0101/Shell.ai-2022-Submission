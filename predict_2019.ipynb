{
 "cells": [
  {
   "cell_type": "code",
   "execution_count": null,
   "metadata": {},
   "outputs": [],
   "source": [
    "import math\n",
    "import numpy as np\n",
    "import pandas as pd\n",
    "from sklearn.metrics import pairwise\n",
    "import gurobipy as gp\n",
    "from gurobipy import GRB\n",
    "from demand_point import DemandPoint\n",
    "from supply_point import SupplyPoint\n",
    "\n",
    "demand_history_df = pd.read_csv('./dataset/Demand_History.csv')\n",
    "limit = len(demand_history_df)\n",
    "demand_points = []\n",
    "\n",
    "for i in range(len(demand_history_df[:limit])):\n",
    "    cur_row = demand_history_df.iloc[i]\n",
    "    demand_object = DemandPoint(cur_row[0], cur_row[1], cur_row[2], np.array(cur_row[3:]))\n",
    "    # demand_object.predict_demand()\n",
    "    demand_points.append(demand_object)\n",
    "\n",
    "existing_infra_df = pd.read_csv('./dataset/exisiting_EV_infrastructure_2018.csv')\n",
    "supply_points = []\n",
    "\n",
    "for i in range(len(existing_infra_df)):\n",
    "    cur_row = existing_infra_df.iloc[i]\n",
    "    supply_object = SupplyPoint(cur_row[0], cur_row[1], cur_row[2], cur_row[3], cur_row[4], cur_row[5])\n",
    "    # supply_object.calculate_max_supply()\n",
    "    supply_points.append(supply_object)\n",
    "\n",
    "demand_point_locations = [[point.x, point.y] for point in demand_points]\n",
    "supply_point_locations = [[point.x, point.y] for point in supply_points]\n",
    "cost = pairwise.euclidean_distances(demand_point_locations, supply_point_locations)\n",
    "\n",
    "model = gp.Model('Shell')\n",
    "\n",
    "\"\"\"\n",
    "Variables\n",
    "----------\n",
    "\n",
    "\"\"\"\n",
    "\n",
    "allocation_matrix = {(demand_index, supply_index): model.addVar(vtype = GRB.CONTINUOUS,\n",
    "                            lb = 0.0,\n",
    "                            ub = GRB.INFINITY,\n",
    "                            name = \"x_{0}_{1}\".format(demand_index, supply_index))\n",
    "    for demand_index, demand_point in enumerate(demand_points) for supply_index, supply_point in enumerate(supply_points)}\n",
    "\n",
    "num_fcs = {}\n",
    "num_scs = {}\n",
    "\n",
    "num_fcs = {(supply_index) : model.addVar(vtype = GRB.INTEGER,\n",
    "                lb = supply_point.existing_num_FCS,\n",
    "                ub = supply_point.total_parking_slots,\n",
    "                name = \"num_fcs_{0}\".format(supply_index))\n",
    "    for supply_index, supply_point in enumerate(supply_points)}\n",
    "\n",
    "num_scs = {(supply_index) : model.addVar(vtype = GRB.INTEGER,\n",
    "                lb = supply_point.existing_num_SCS,\n",
    "                ub = supply_point.total_parking_slots,\n",
    "                name = \"num_scs_{0}\".format(supply_index))\n",
    "    for supply_index, supply_point in enumerate(supply_points)}\n",
    "\n",
    "######TEST########\n",
    "abs_demand_variation = {}\n",
    "\n",
    "abs_demand_variation = {(demand_index) : model.addVar(vtype = GRB.CONTINUOUS,\n",
    "                name = \"abs_demand_variation_{0}\".format(demand_index))\n",
    "    for demand_index, demand_point in enumerate(demand_points)}\n",
    "\n",
    "for demand_index, demand_point in enumerate(demand_points):\n",
    "    z = model.addVar(lb=-GRB.INFINITY)\n",
    "    model.addConstr(z == (demand_point.demand[0] - (gp.quicksum(allocation_matrix[demand_index, supply_index] for supply_index in range(len(supply_points))))))\n",
    "    model.addGenConstrAbs(abs_demand_variation[demand_index], z, \"absconstr_{0}\".format(demand_index))\n",
    "    \n",
    "###################\n",
    "\n",
    "\"\"\"\n",
    "Constraints\n",
    "------------\n",
    "\n",
    "\"\"\"\n",
    "\n",
    "model.addConstrs(\n",
    "    (num_fcs[supply_index] + num_scs[supply_index] <= supply_point.total_parking_slots\n",
    "    for supply_index, supply_point in enumerate(supply_points)),\n",
    "    name = 'fcs_constr'\n",
    ")\n",
    "\n",
    "model.addConstrs(\n",
    "    (gp.quicksum(allocation_matrix[demand_index, supply_index] \n",
    "    for demand_index in range(len(demand_points))) <= 400*num_fcs[supply_index] + 200*num_scs[supply_index] - 10e-3\n",
    "    \n",
    "    for supply_index, supply_point in enumerate(supply_points)),\n",
    "    name = 'constr2'\n",
    ")\n",
    "\n",
    "# model.addConstrs(\n",
    "#     (gp.quicksum(allocation_matrix[demand_index, supply_index] \n",
    "#     for supply_index in range(len(supply_points))) <= max(0, demand_point.demand[0] - 10e-3)\n",
    "\n",
    "#     for demand_index, demand_point in enumerate(demand_points)),\n",
    "#     name = 'constr3'\n",
    "# )"
   ]
  },
  {
   "cell_type": "code",
   "execution_count": null,
   "metadata": {},
   "outputs": [],
   "source": [
    "# sum = 0\n",
    "# for demand_point in demand_points:\n",
    "#     sum += demand_point.demand[0]\n",
    "# print(sum)"
   ]
  },
  {
   "cell_type": "code",
   "execution_count": null,
   "metadata": {},
   "outputs": [],
   "source": [
    "\"\"\"\n",
    "Objective\n",
    "\"\"\"\n",
    "\n",
    "objective_terms = []\n",
    "for demand_index, demand_point in enumerate(demand_points):\n",
    "    for supply_index, supply_point in enumerate(supply_points):\n",
    "        objective_terms.append(cost[demand_index][supply_index] * allocation_matrix[demand_index, supply_index])\n",
    "\n",
    "# for demand_index, demand_point in enumerate(demand_points):\n",
    "#     objective_terms.append(25 * (\n",
    "#             demand_point.demand[0] - (gp.quicksum(allocation_matrix[demand_index, supply_index] for supply_index in range(len(supply_points))))\n",
    "#         )\n",
    "#     )\n",
    "for demand_index, demand_point in enumerate(demand_points):\n",
    "    objective_terms.append(24.5 * abs_demand_variation[demand_index])\n",
    "\n",
    "for supply_index, supply_point in enumerate(supply_points):\n",
    "    objective_terms.append(600 * (num_scs[supply_index] + 1.5 * num_fcs[supply_index]))"
   ]
  },
  {
   "cell_type": "code",
   "execution_count": null,
   "metadata": {},
   "outputs": [],
   "source": [
    "model.update()\n",
    "model.setObjective(gp.quicksum(objective_terms))\n",
    "model.ModelSense = gp.GRB.MINIMIZE"
   ]
  },
  {
   "cell_type": "code",
   "execution_count": null,
   "metadata": {},
   "outputs": [],
   "source": [
    "model.computeIIS()\n",
    "model.write(\"model.ilp\")"
   ]
  },
  {
   "cell_type": "code",
   "execution_count": null,
   "metadata": {},
   "outputs": [],
   "source": [
    "model.feasRelaxS(0, True, False, True)\n",
    "# model.feasRelaxS(0, True, True, True)\n"
   ]
  },
  {
   "cell_type": "code",
   "execution_count": null,
   "metadata": {},
   "outputs": [],
   "source": [
    "model.setParam(GRB.Param.PoolSearchMode, 2)\n",
    "model.setParam(GRB.Param.PoolSolutions, 3)"
   ]
  },
  {
   "cell_type": "code",
   "execution_count": null,
   "metadata": {},
   "outputs": [],
   "source": [
    "model.optimize()"
   ]
  },
  {
   "cell_type": "code",
   "execution_count": null,
   "metadata": {},
   "outputs": [],
   "source": [
    "model.setParam(GRB.Param.SolutionNumber, 2)"
   ]
  },
  {
   "cell_type": "code",
   "execution_count": null,
   "metadata": {},
   "outputs": [],
   "source": [
    "%matplotlib qt \n",
    "import matplotlib.pyplot as plt\n",
    "\n",
    "supply_points_x = []\n",
    "supply_points_y = []\n",
    "demand_points_x = []\n",
    "demand_points_y = []\n",
    "\n",
    "for demand_point in demand_points[::10]:\n",
    "    for supply_point in supply_points:\n",
    "        demand_index = int(demand_point.index)\n",
    "        supply_index = int(supply_point.index)\n",
    "\n",
    "        supply_points_x.append(supply_point.x)\n",
    "        supply_points_y.append(supply_point.y)\n",
    "        demand_points_x.append(demand_point.x)\n",
    "        demand_points_y.append(demand_point.y)\n",
    "        if allocation_matrix[demand_index, supply_index].X > 0:\n",
    "            if(round(cost[demand_index][supply_index]) != round(math.dist([demand_point.x, demand_point.y], [supply_point.x, supply_point.y]))):\n",
    "                print(demand_index, supply_index)\n",
    "            # print(demand_index, supply_index, allocation_matrix[demand_index, supply_index].X)\n",
    "\n",
    "            plt.text((supply_point.x + demand_point.x) / 2, (supply_point.y + demand_point.y) / 2, '%.1f'%(allocation_matrix[demand_index, supply_index].X), fontsize = 10)\n",
    "            # plt.text(supply_point.x, supply_point.y , '%s'%(supply_index), fontsize = 10)\n",
    "            # plt.text((supply_point.x + demand_point.x) / 2, (supply_point.y + demand_point.y) / 2, '%.1f'%(math.dist([demand_point.x, demand_point.y], [supply_point.x, supply_point.y])), fontsize = 10)\n",
    "            # plt.text((supply_point.x + demand_point.x) / 2, (supply_point.y + demand_point.y) / 2, '%.1f'%(cost[demand_index][supply_index]), fontsize = 10)\n",
    "            plt.plot([supply_point.x, demand_point.x], [supply_point.y, demand_point.y])\n",
    "\n",
    "plt.scatter(supply_points_x, supply_points_y, color='r')\n",
    "plt.scatter(demand_points_x, demand_points_y, color='b')\n",
    "plt.show()\n"
   ]
  },
  {
   "cell_type": "code",
   "execution_count": null,
   "metadata": {},
   "outputs": [],
   "source": [
    "allocation_copy = {}\n",
    "\n",
    "for supply_index, supply_point in enumerate(supply_points):\n",
    "    for demand_index in range(len(demand_points)): \n",
    "        allocation_copy[demand_index, supply_index] = allocation_matrix[demand_index, supply_index].X\n",
    "        \n",
    "for supply_index, supply_point in enumerate(supply_points):\n",
    "    cur = sum([allocation_copy[demand_index, supply_index] for demand_index in range(len(demand_points))])\n",
    "    max_allowed = supply_point.max_supply\n",
    "\n",
    "    for demand_index in range(len(demand_points)): \n",
    "        if cur <= max_allowed:\n",
    "            break\n",
    "        \n",
    "        cur -= allocation_copy[demand_index, supply_index]\n",
    "        allocation_copy[demand_index, supply_index] = 0.0"
   ]
  },
  {
   "cell_type": "code",
   "execution_count": null,
   "metadata": {},
   "outputs": [],
   "source": [
    "# Test constraint 1\n",
    "for supply_index, supply_point in enumerate(supply_points):\n",
    "    if num_fcs[supply_index].X < 0 or num_scs[supply_index].X < 0 or num_fcs[supply_index].X + num_scs[supply_index].X > supply_point.total_parking_slots:\n",
    "        print(supply_index, num_fcs[supply_index].X, num_scs[supply_index].X)\n",
    "    # print(supply_point.total_parking_slots - (num_fcs[supply_index].X + num_scs[supply_index].X))"
   ]
  },
  {
   "cell_type": "code",
   "execution_count": null,
   "metadata": {},
   "outputs": [],
   "source": [
    "# Test constraint 2\n",
    "for supply_index, supply_point in enumerate(supply_points):\n",
    "    cur_sum = sum(allocation_matrix[demand_index, supply_index].X for demand_index in range(len(demand_points)))\n",
    "    max_supply = 400 * num_fcs[supply_index].X + 200 * num_scs[supply_index].X\n",
    "    if cur_sum > max_supply:\n",
    "        print(supply_index, cur_sum, max_supply, cur_sum - max_supply)\n",
    "    # if max_supply - cur_sum > 5:\n",
    "    #     print(max_supply - cur_sum)"
   ]
  },
  {
   "cell_type": "code",
   "execution_count": null,
   "metadata": {},
   "outputs": [],
   "source": [
    "# Test constraint 3\n",
    "for demand_index, demand_point in enumerate(demand_points):\n",
    "    cur_sum = sum(allocation_matrix[demand_index, supply_index].X for supply_index in range(len(supply_points)))\n",
    "    max_sum = demand_point.demand[0]\n",
    "\n",
    "    if abs(cur_sum - max_sum > 1):\n",
    "        print(demand_index, cur_sum, max_sum, cur_sum - max_sum)\n",
    "    # if max_sum - cur_sum > 0.5:\n",
    "    #     print(demand_index, max_sum, cur_sum, max_sum - cur_sum)"
   ]
  },
  {
   "cell_type": "code",
   "execution_count": null,
   "metadata": {},
   "outputs": [],
   "source": [
    "# Test constraint 4\n",
    "for demand_index, demand_point in enumerate(demand_points):\n",
    "    for supply_index, supply_point in enumerate(supply_points):\n",
    "        if allocation_matrix[demand_index, supply_index].X < 0:\n",
    "            print(demand_index, supply_index, allocation_matrix[demand_index, supply_index].X)"
   ]
  },
  {
   "cell_type": "code",
   "execution_count": null,
   "metadata": {},
   "outputs": [],
   "source": [
    "for supply_index, supply_point in enumerate(supply_points):\n",
    "    if supply_point.existing_num_FCS > num_fcs[supply_index].X:\n",
    "        print(supply_index, supply_point.existing_num_FCS, num_fcs[supply_index].X)\n",
    "    if supply_point.existing_num_SCS > num_scs[supply_index].X:\n",
    "        print(supply_index, supply_point.existing_num_SCS, num_scs[supply_index].X)"
   ]
  },
  {
   "cell_type": "code",
   "execution_count": null,
   "metadata": {},
   "outputs": [],
   "source": [
    "import csv  \n",
    "header = ['year','data_type','demand_point_index','supply_point_index','value']\n",
    "with open('shell_notebook.csv', 'w', encoding='UTF8', newline='') as f:\n",
    "    writer = csv.writer(f)\n",
    "    # write the header\n",
    "    writer.writerow(header)\n",
    "    # write multiple rows\n",
    "    for i in range(len(num_fcs)):\n",
    "        writer.writerow(['2019', 'FCS', 0, i, int(math.ceil(num_fcs[i].X))])"
   ]
  },
  {
   "cell_type": "code",
   "execution_count": null,
   "metadata": {},
   "outputs": [],
   "source": [
    "with open('shell_notebook.csv', 'a', encoding='UTF8', newline='') as f:\n",
    "    writer = csv.writer(f)\n",
    "    for i in range(len(num_scs)):\n",
    "        writer.writerow(['2019', 'SCS', 0, i, int(math.ceil(num_scs[i].X))])"
   ]
  },
  {
   "cell_type": "code",
   "execution_count": null,
   "metadata": {},
   "outputs": [],
   "source": [
    "with open('shell_notebook.csv', 'a', encoding='UTF8', newline='') as f:\n",
    "    writer = csv.writer(f)\n",
    "    for demand_index, demand_point in enumerate(demand_points):\n",
    "        for supply_index, supply_point in enumerate(supply_points):\n",
    "            writer.writerow(['2019', 'DS', demand_index, supply_index, max(0, allocation_matrix[demand_index, supply_index].X)])"
   ]
  },
  {
   "cell_type": "code",
   "execution_count": null,
   "metadata": {},
   "outputs": [],
   "source": [
    "########################################################"
   ]
  },
  {
   "cell_type": "code",
   "execution_count": null,
   "metadata": {},
   "outputs": [],
   "source": [
    "import csv  \n",
    "header = ['year','data_type','demand_point_index','supply_point_index','value']\n",
    "with open('shell_notebook.csv', 'w', encoding='UTF8', newline='') as f:\n",
    "    writer = csv.writer(f)\n",
    "    # write the header\n",
    "    writer.writerow(header)\n",
    "    # write multiple rows\n",
    "    for i in range(len(num_fcs)):\n",
    "        writer.writerow(['2019', 'FCS', 0, i, int(math.ceil(num_fcs[i].Xn))])"
   ]
  },
  {
   "cell_type": "code",
   "execution_count": null,
   "metadata": {},
   "outputs": [],
   "source": [
    "with open('shell_notebook.csv', 'a', encoding='UTF8', newline='') as f:\n",
    "    writer = csv.writer(f)\n",
    "    for i in range(len(num_scs)):\n",
    "        writer.writerow(['2019', 'SCS', 0, i, int(math.ceil(num_scs[i].Xn))])"
   ]
  },
  {
   "cell_type": "code",
   "execution_count": null,
   "metadata": {},
   "outputs": [],
   "source": [
    "with open('shell_notebook.csv', 'a', encoding='UTF8', newline='') as f:\n",
    "    writer = csv.writer(f)\n",
    "    for demand_index, demand_point in enumerate(demand_points):\n",
    "        for supply_index, supply_point in enumerate(supply_points):\n",
    "            writer.writerow(['2019', 'DS', demand_index, supply_index, max(0, allocation_matrix[demand_index, supply_index].Xn)])"
   ]
  }
 ],
 "metadata": {
  "kernelspec": {
   "display_name": "Python 3.9.1 ('face')",
   "language": "python",
   "name": "python3"
  },
  "language_info": {
   "codemirror_mode": {
    "name": "ipython",
    "version": 3
   },
   "file_extension": ".py",
   "mimetype": "text/x-python",
   "name": "python",
   "nbconvert_exporter": "python",
   "pygments_lexer": "ipython3",
   "version": "3.9.1"
  },
  "orig_nbformat": 4,
  "vscode": {
   "interpreter": {
    "hash": "0015dbe0128247db5ee375288c307af905a456c2f7f82485d02b896432d2a5fb"
   }
  }
 },
 "nbformat": 4,
 "nbformat_minor": 2
}
